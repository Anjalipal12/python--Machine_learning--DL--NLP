{
 "cells": [
  {
   "cell_type": "markdown",
   "id": "39595c03",
   "metadata": {},
   "source": [
    "### Operators in Python\n",
    "#### Introduction to Operators in Python\n",
    "we will continue our discussion on Python by deep diving into operators. We will see how Python enables us to perform different operations using various operators.\n",
    "\n",
    "#### Introduction to operators\n",
    "Arithmetic operators: addition, subtraction, multiplication, division, floor division, modulus, and exponential\n",
    "Comparison operators: equal to, not equal to, greater than, less than, greater than or equal to, less than or equal to\n",
    "Logical operators: and, or, not\n",
    "Practical examples for each operator\n",
    "Arithmetic Operators\n",
    "Arithmetic operators allow us to perform mathematical operations. Let us create some variables and perform these operations."
   ]
  },
  {
   "cell_type": "markdown",
   "id": "645ecba0",
   "metadata": {},
   "source": [
    "### Arithmetic Operators\n",
    "Arithmetic operators allow us to perform mathematical operations. Let us create some variables and perform these operations.\n",
    "Addition gives 25, subtraction gives -5, multiplication gives 150, division gives approximately 0.6667, floor division gives 0, modulus gives 10, and exponentiation gives a very large number."
   ]
  },
  {
   "cell_type": "code",
   "execution_count": 1,
   "id": "c8f01157",
   "metadata": {},
   "outputs": [
    {
     "name": "stdout",
     "output_type": "stream",
     "text": [
      "25\n",
      "-5\n",
      "150\n",
      "0.6666666666666666\n",
      "0\n",
      "1000000000000000\n"
     ]
    }
   ],
   "source": [
    "a = 10\n",
    "b = 15\n",
    "add_result = a+b\n",
    "sub_result = a-b\n",
    "mul_result = a*b\n",
    "div_result = a / b\n",
    "floor_div_result = a // b\n",
    "exponential_result = a ** b\n",
    "print(add_result)\n",
    "print(sub_result)\n",
    "print(mul_result)\n",
    "print(div_result)\n",
    "print(floor_div_result)\n",
    "print(exponential_result)"
   ]
  },
  {
   "cell_type": "markdown",
   "id": "ac671cd3",
   "metadata": {},
   "source": [
    "### Floor Division Example\n",
    "Let us see the difference between division and floor division.\n",
    "Division gives 4.2, while floor division gives 4. Floor division removes the decimal part and gives the lowest integer value."
   ]
  },
  {
   "cell_type": "code",
   "execution_count": 2,
   "id": "4e203c70",
   "metadata": {},
   "outputs": [
    {
     "name": "stdout",
     "output_type": "stream",
     "text": [
      "4.2\n",
      "4\n"
     ]
    }
   ],
   "source": [
    "print( 21/5 )\n",
    "print( 21//5 )"
   ]
  },
  {
   "cell_type": "markdown",
   "id": "23ecfc4b",
   "metadata": {},
   "source": [
    "### Comparison Operators\n",
    "Comparison operators are used to compare values. The result of a comparison is always a boolean value: either True or False.\n"
   ]
  },
  {
   "cell_type": "code",
   "execution_count": 3,
   "id": "772438a5",
   "metadata": {},
   "outputs": [
    {
     "name": "stdout",
     "output_type": "stream",
     "text": [
      "False\n"
     ]
    }
   ],
   "source": [
    "a = 10\n",
    "b = 15\n",
    "print(a==b)"
   ]
  },
  {
   "cell_type": "markdown",
   "id": "1a7aeade",
   "metadata": {},
   "source": [
    "The double equal to operator (==) checks if two values are equal. This will print True."
   ]
  },
  {
   "cell_type": "code",
   "execution_count": 4,
   "id": "3a4a819a",
   "metadata": {},
   "outputs": [
    {
     "name": "stdout",
     "output_type": "stream",
     "text": [
      "True\n",
      "True\n"
     ]
    }
   ],
   "source": [
    "str1 = \"Crush\"\n",
    "str2 = \"Crush\"\n",
    "print(str1 == str2)\n",
    "str3 = \"Crush\"\n",
    "print(str1 == str3)"
   ]
  },
  {
   "cell_type": "markdown",
   "id": "a7e40af2",
   "metadata": {},
   "source": [
    "String comparison is case sensitive. \"Crush\" == \"Crush\" returns True, but \"Crush\" == \"crush\" returns False."
   ]
  },
  {
   "cell_type": "code",
   "execution_count": 5,
   "id": "3d3c3c37",
   "metadata": {},
   "outputs": [
    {
     "name": "stdout",
     "output_type": "stream",
     "text": [
      "False\n",
      "False\n"
     ]
    }
   ],
   "source": [
    "print(str1 != str2)\n",
    "print(str3 != str2)"
   ]
  },
  {
   "cell_type": "markdown",
   "id": "7cb28504",
   "metadata": {},
   "source": [
    "The not equal to operator (!=) checks if two values are not equal. If they are not equal, it returns True."
   ]
  },
  {
   "cell_type": "code",
   "execution_count": 6,
   "id": "75892081",
   "metadata": {},
   "outputs": [
    {
     "name": "stdout",
     "output_type": "stream",
     "text": [
      "False\n",
      "True\n",
      "True\n"
     ]
    }
   ],
   "source": [
    "num1 = 45\n",
    "num2 = 55\n",
    "print(num1 >= num2)\n",
    "print(num1 <= num2)\n",
    "num1 = 44\n",
    "print(num1 <= num2)\n"
   ]
  },
  {
   "cell_type": "markdown",
   "id": "bf02a715",
   "metadata": {},
   "source": [
    "Greater than or equal to (>=) and less than or equal to (<=) operators check if one value is greater than or equal to, or less than or equal to another value.\n",
    "\n",
    "### Logical Operators\n",
    "Logical operators are used to combine conditional statements. The main logical operators are and, or, and not."
   ]
  },
  {
   "cell_type": "code",
   "execution_count": 7,
   "id": "63364062",
   "metadata": {},
   "outputs": [
    {
     "name": "stdout",
     "output_type": "stream",
     "text": [
      "True\n",
      "False\n"
     ]
    }
   ],
   "source": [
    "x = True\n",
    "y = True\n",
    "result = x and y\n",
    "print(result)\n",
    "y = False\n",
    "result = x and y\n",
    "print(result)"
   ]
  },
  {
   "cell_type": "markdown",
   "id": "5175fdc5",
   "metadata": {},
   "source": [
    "The and operator returns True only if both operands are True. If either is False, the result is False."
   ]
  },
  {
   "cell_type": "code",
   "execution_count": 8,
   "id": "a9a545cb",
   "metadata": {},
   "outputs": [
    {
     "name": "stdout",
     "output_type": "stream",
     "text": [
      "True\n",
      "False\n"
     ]
    }
   ],
   "source": [
    "x = True\n",
    "y = False\n",
    "result = x or y\n",
    "print(result)\n",
    "x = False\n",
    "y = False\n",
    "result = x or y\n",
    "print(result)"
   ]
  },
  {
   "cell_type": "markdown",
   "id": "dd1b7915",
   "metadata": {},
   "source": [
    "The or operator returns True if at least one operand is True. Only if both are False does it return False."
   ]
  },
  {
   "cell_type": "code",
   "execution_count": 9,
   "id": "9c048376",
   "metadata": {},
   "outputs": [
    {
     "name": "stdout",
     "output_type": "stream",
     "text": [
      "False\n",
      "True\n"
     ]
    }
   ],
   "source": [
    "x = True\n",
    "print(not x)\n",
    "x = False\n",
    "print(not x)"
   ]
  },
  {
   "cell_type": "markdown",
   "id": "27ec2f7e",
   "metadata": {},
   "source": [
    "The not operator inverts the boolean value. If the value is True, not returns False, and vice versa.\n",
    "\n",
    "#### Simple Calculator Example\n",
    "Let us implement a simple calculator that takes two numbers as input and performs all arithmetic operations."
   ]
  },
  {
   "cell_type": "code",
   "execution_count": null,
   "id": "96fbd9e4",
   "metadata": {},
   "outputs": [
    {
     "name": "stdout",
     "output_type": "stream",
     "text": [
      "Addition: {30.0}\n",
      "Subtraction: -10.0\n",
      "Multiplication: 200.0\n",
      "division: 0.5\n",
      "Floor Division: 0.0\n",
      "Modulous: 30.0\n",
      "Exponential: 1e+20\n"
     ]
    }
   ],
   "source": [
    "a = float(input(\"Enter first number: \"))\n",
    "b = float(input(\"Enter second number: \"))\n",
    "print(\"Addition:\", a + b)\n",
    "print(\"Subtraction:\", a - b)\n",
    "print(\"Multiplication:\", a * b)\n",
    "print(\"division:\", a / b)\n",
    "print(\"Floor Division:\", a // b)\n",
    "print(\"Modulous:\", a + b)\n",
    "print(\"Exponential:\", a ** b)"
   ]
  },
  {
   "cell_type": "markdown",
   "id": "b216dc54",
   "metadata": {},
   "source": [
    "When the calculator is executed, it prompts for two numbers and displays the results of all arithmetic operations.\n",
    "\n",
    "#### Conclusion\n",
    "This concludes our discussion on operators in Python. We have covered arithmetic, comparison, and logical operators with practical examples.\n",
    "\n",
    "#### Key Takeaways\n",
    "Arithmetic operators in Python include addition, subtraction, multiplication, division, floor division, modulus, and exponentiation.\n",
    "Comparison operators such as equal to, not equal to, greater than, less than, greater than or equal to, and less than or equal to are used to compare values.\n",
    "Logical operators in Python include and, or, and not, which are used to combine conditional statements.\n",
    "Practical code examples demonstrate the use of these operators, including a simple calculator implementation."
   ]
  }
 ],
 "metadata": {
  "kernelspec": {
   "display_name": "Python 3",
   "language": "python",
   "name": "python3"
  },
  "language_info": {
   "codemirror_mode": {
    "name": "ipython",
    "version": 3
   },
   "file_extension": ".py",
   "mimetype": "text/x-python",
   "name": "python",
   "nbconvert_exporter": "python",
   "pygments_lexer": "ipython3",
   "version": "3.12.0"
  }
 },
 "nbformat": 4,
 "nbformat_minor": 5
}
