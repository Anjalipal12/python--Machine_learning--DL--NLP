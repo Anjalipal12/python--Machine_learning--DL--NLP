{
 "cells": [
  {
   "cell_type": "markdown",
   "id": "a40d969d",
   "metadata": {},
   "source": [
    "### Syntax and Semantics in Python\n",
    "\n",
    "* Single line Comments and multiline comments\n",
    "* Definition of Syntax and Semantics\n",
    "* Basic Syntax Rules in Python\n",
    "* Understanding Semantics in Python\n",
    "* Common Syntax Errors and How to Avoid Them\n",
    "* Practical Code Examples\n",
    "\n",
    "Syntax refers to the set of rules that defines the combinations of symbols that are considered to be correctly structured programs in a language. In simpler terms, syntax is about the correct arrangement of words and symbols in a code.\n",
    "\n",
    "Semantics refers to the meaning or the interpretation of the symbols, characters, and commands in a language. It is about what the code is supposed to do when it runs."
   ]
  },
  {
   "cell_type": "markdown",
   "id": "0a9be516",
   "metadata": {},
   "source": [
    "### Single-Line and Multi-Line Comments in Python\n",
    "Single-line comments in Python are written using the double hash (#). This allows you to write comments in your code for documentation or explanation purposes. For multi-line comments, triple quotes (''' or \"\"\") are used, especially in .py files. However, triple quotes for multi-line comments do not work in Jupyter notebooks; they are specific to .py files. Single-line comments work in both Jupyter notebooks and Python files."
   ]
  },
  {
   "cell_type": "code",
   "execution_count": 14,
   "id": "27458333",
   "metadata": {},
   "outputs": [],
   "source": [
    "# This is a single line comment"
   ]
  },
  {
   "cell_type": "code",
   "execution_count": 15,
   "id": "1990f69d",
   "metadata": {},
   "outputs": [
    {
     "data": {
      "text/plain": [
       "'\\nThis is a multi-line comment.\\nWelcome to the Python course.\\n'"
      ]
     },
     "execution_count": 15,
     "metadata": {},
     "output_type": "execute_result"
    }
   ],
   "source": [
    "\"\"\"\n",
    "This is a multi-line comment.\n",
    "Welcome to the Python course.\n",
    "\"\"\""
   ]
  },
  {
   "cell_type": "markdown",
   "id": "9b73554a",
   "metadata": {},
   "source": [
    "### Case Sensitivity in Python\n",
    "Python is case sensitive. Variable names with different cases are treated as different identifiers. For example, name and Name are two different variables."
   ]
  },
  {
   "cell_type": "code",
   "execution_count": 1,
   "id": "12166edb",
   "metadata": {},
   "outputs": [
    {
     "name": "stdout",
     "output_type": "stream",
     "text": [
      "Krish\n",
      "naik\n"
     ]
    }
   ],
   "source": [
    "## Basic syntax Rules in Python\n",
    "## python is case sensitive\n",
    "\n",
    "name=\"Krish\"\n",
    "Name=\"naik\"\n",
    "\n",
    "print(name)\n",
    "print(Name)"
   ]
  },
  {
   "cell_type": "markdown",
   "id": "d6dc1dc0",
   "metadata": {},
   "source": [
    "### Indentation\n",
    "Indentation in Python is used to define the structure and hierarchy of the code. Unlike many other programming languages that use braces {} to delimit blocks of code, Python uses indentation to determine the grouping of statements. This means that all the statements within a block must be indented at the same level."
   ]
  },
  {
   "cell_type": "code",
   "execution_count": 2,
   "id": "a6b19ddf",
   "metadata": {},
   "outputs": [
    {
     "name": "stdout",
     "output_type": "stream",
     "text": [
      "32\n",
      "32\n"
     ]
    }
   ],
   "source": [
    "## Identation\n",
    "## Python uses identation to define blocks of code. Consistent use of spaces (commonly 4) or a tab is required.\n",
    "\n",
    "age=32\n",
    "if age>30:\n",
    "\n",
    "    print(age)\n",
    "\n",
    "print(age)"
   ]
  },
  {
   "cell_type": "code",
   "execution_count": 3,
   "id": "e35f4aa8",
   "metadata": {},
   "outputs": [
    {
     "name": "stdout",
     "output_type": "stream",
     "text": [
      "Hello World\n"
     ]
    }
   ],
   "source": [
    "##this is a single line comment\n",
    "print(\"Hello World\")"
   ]
  },
  {
   "cell_type": "markdown",
   "id": "8ff693df",
   "metadata": {},
   "source": [
    "### line Continuation\n",
    "If a line of code becomes too long, you can use a backslash (\\) to continue the statement on the next line."
   ]
  },
  {
   "cell_type": "code",
   "execution_count": null,
   "id": "47e6bb2e",
   "metadata": {},
   "outputs": [
    {
     "name": "stdout",
     "output_type": "stream",
     "text": [
      "36\n"
     ]
    }
   ],
   "source": [
    "total = 1+2+3+4+5+\\\n",
    "6+7+8\n",
    "print(total)"
   ]
  },
  {
   "cell_type": "code",
   "execution_count": 5,
   "id": "de48a04b",
   "metadata": {},
   "outputs": [
    {
     "name": "stdout",
     "output_type": "stream",
     "text": [
      "15\n"
     ]
    }
   ],
   "source": [
    "## Multiple Statements on a single line\n",
    "x=5;y=10;z=x+y\n",
    "print(z)"
   ]
  },
  {
   "cell_type": "code",
   "execution_count": 6,
   "id": "f7aafb9c",
   "metadata": {},
   "outputs": [],
   "source": [
    "##Understand Semantics In Python\n",
    "# variable assignment\n",
    "age=32 ## age is an integer\n",
    "name=\"krish\" ##name is a string"
   ]
  },
  {
   "cell_type": "code",
   "execution_count": 7,
   "id": "057b6e6c",
   "metadata": {},
   "outputs": [
    {
     "data": {
      "text/plain": [
       "int"
      ]
     },
     "execution_count": 7,
     "metadata": {},
     "output_type": "execute_result"
    }
   ],
   "source": [
    "type(age)"
   ]
  },
  {
   "cell_type": "code",
   "execution_count": 8,
   "id": "a6981c53",
   "metadata": {},
   "outputs": [
    {
     "data": {
      "text/plain": [
       "str"
      ]
     },
     "execution_count": 8,
     "metadata": {},
     "output_type": "execute_result"
    }
   ],
   "source": [
    "type(name)"
   ]
  },
  {
   "cell_type": "markdown",
   "id": "fb4b9ca9",
   "metadata": {},
   "source": [
    "### Type Inference and Dynamic Typing\n",
    "Python infers the type of a variable at runtime, allowing dynamic typing. The type of a variable can change as new values are assigned."
   ]
  },
  {
   "cell_type": "code",
   "execution_count": 9,
   "id": "f347b579",
   "metadata": {},
   "outputs": [
    {
     "name": "stdout",
     "output_type": "stream",
     "text": [
      "<class 'int'>\n",
      "<class 'str'>\n"
     ]
    }
   ],
   "source": [
    "## Type Inference\n",
    "variable = 10\n",
    "print(type(variable))\n",
    "variable=\"Krish\"\n",
    "print(type(variable))"
   ]
  },
  {
   "cell_type": "code",
   "execution_count": 11,
   "id": "a591c34c",
   "metadata": {},
   "outputs": [
    {
     "name": "stdout",
     "output_type": "stream",
     "text": [
      "32\n"
     ]
    }
   ],
   "source": [
    "age=32\n",
    "if age>30:\n",
    "    print(age)"
   ]
  },
  {
   "cell_type": "markdown",
   "id": "f4200b84",
   "metadata": {},
   "source": [
    "#### Name Errors in Python\n",
    "If you use a variable that has not been defined, Python will raise a name error."
   ]
  },
  {
   "cell_type": "code",
   "execution_count": 12,
   "id": "26302982",
   "metadata": {},
   "outputs": [
    {
     "ename": "NameError",
     "evalue": "name 'b' is not defined",
     "output_type": "error",
     "traceback": [
      "\u001b[31m---------------------------------------------------------------------------\u001b[39m",
      "\u001b[31mNameError\u001b[39m                                 Traceback (most recent call last)",
      "\u001b[36mCell\u001b[39m\u001b[36m \u001b[39m\u001b[32mIn[12]\u001b[39m\u001b[32m, line 2\u001b[39m\n\u001b[32m      1\u001b[39m \u001b[38;5;66;03m## Name error \u001b[39;00m\n\u001b[32m----> \u001b[39m\u001b[32m2\u001b[39m a=\u001b[43mb\u001b[49m\n",
      "\u001b[31mNameError\u001b[39m: name 'b' is not defined"
     ]
    }
   ],
   "source": [
    "## Name error \n",
    "a=b"
   ]
  },
  {
   "cell_type": "markdown",
   "id": "7ad61e1e",
   "metadata": {},
   "source": [
    "### Example: Nested Indentation\n",
    "Here is an example demonstrating correct indentation and nested blocks in Python."
   ]
  },
  {
   "cell_type": "code",
   "execution_count": 13,
   "id": "87f6ed50",
   "metadata": {},
   "outputs": [
    {
     "name": "stdout",
     "output_type": "stream",
     "text": [
      "correct identation\n",
      "This will print\n",
      "Outside the if block\n"
     ]
    }
   ],
   "source": [
    "##Code examples of identation\n",
    "if True:\n",
    "    print(\"correct identation\")\n",
    "    if False:\n",
    "        print(\"This will not  print\")\n",
    "    print(\"This will print\")\n",
    "print(\"Outside the if block\")"
   ]
  },
  {
   "cell_type": "markdown",
   "id": "cdb89569",
   "metadata": {},
   "source": [
    "### Conclusion\n",
    " we covered single-line and multi-line comments, definitions of syntax and semantics, basic syntax rules, variable assignment, case sensitivity, indentation, line continuation, multiple statements on a single line, type inference, and common syntax errors. This provides a foundational understanding of Python's syntax and semantics.\n",
    "\n",
    "### Key Takeaways\n",
    "* Syntax in Python refers to the correct arrangement of words and symbols, while semantics refers to the meaning and interpretation of code.\n",
    "* Python is case sensitive, and variable names with different cases are treated as different identifiers.\n",
    "* Indentation is crucial in Python to define code blocks, replacing the need for braces used in other languages.\n",
    "* Python supports single-line and multi-line comments, line continuation with backslash, and allows multiple statements on a single line using semicolons."
   ]
  }
 ],
 "metadata": {
  "kernelspec": {
   "display_name": "Python 3",
   "language": "python",
   "name": "python3"
  },
  "language_info": {
   "codemirror_mode": {
    "name": "ipython",
    "version": 3
   },
   "file_extension": ".py",
   "mimetype": "text/x-python",
   "name": "python",
   "nbconvert_exporter": "python",
   "pygments_lexer": "ipython3",
   "version": "3.12.0"
  }
 },
 "nbformat": 4,
 "nbformat_minor": 5
}
