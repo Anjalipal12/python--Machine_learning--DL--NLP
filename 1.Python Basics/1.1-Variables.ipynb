{
 "cells": [
  {
   "cell_type": "markdown",
   "id": "3cf329b2",
   "metadata": {},
   "source": [
    "### Variables in Python: Declaration, Naming, Types, and Input\n",
    "##### Introduction to Variables in Python\n",
    "We are going to discuss variables in Python. The outline includes an introduction to variables, declaring and assigning variables, naming conventions, variable types, type checking and conversion, dynamic typing, practical examples, and common errors.\n",
    "##### What are Variables?\n",
    "Variables are fundamental elements in programming used to store data that can be referenced and manipulated in a program. In Python, variables are created when you assign a value to them, and they do not need explicit declaration to reserve memory space. The declaration happens automatically when you assign a value to a variable.\n",
    "##### Example of Variable Assignment\n",
    "If you define a as 100, this becomes the variable. Whenever you start a new notebook file, always make sure to select the kernel. If you write a = 100, this means you have created a variable a and assigned it the value 100."
   ]
  },
  {
   "cell_type": "code",
   "execution_count": 1,
   "id": "1a0869f9",
   "metadata": {},
   "outputs": [],
   "source": [
    "a=100"
   ]
  },
  {
   "cell_type": "markdown",
   "id": "0c8bc3a3",
   "metadata": {},
   "source": [
    "##### Declaring and Assigning Variables\n",
    "You can define variables such as age = 19, height = 4.1, name = 'Anjali', and a boolean variable like is_student = True. These are examples of assigning different types of values to variables."
   ]
  },
  {
   "cell_type": "code",
   "execution_count": 2,
   "id": "0a42d5ff",
   "metadata": {},
   "outputs": [],
   "source": [
    "age = 19\n",
    "height = 4.1\n",
    "name = 'Anjali'\n",
    "is_student = True"
   ]
  },
  {
   "cell_type": "markdown",
   "id": "c63904f2",
   "metadata": {},
   "source": [
    "##### Printing Variables\n",
    "You can print variables to display their values in the console. For example, printing age, height, and name will show their assigned values."
   ]
  },
  {
   "cell_type": "code",
   "execution_count": 4,
   "id": "0d4b6dca",
   "metadata": {},
   "outputs": [
    {
     "name": "stdout",
     "output_type": "stream",
     "text": [
      "Age: 19\n",
      "height: 4.1\n",
      "Name: Anjali\n"
     ]
    }
   ],
   "source": [
    "print('Age:', age)\n",
    "print('height:', height)\n",
    "print('Name:', name)"
   ]
  },
  {
   "cell_type": "markdown",
   "id": "90ebe5af",
   "metadata": {},
   "source": [
    "##### Naming Conventions for Variables\n",
    "Naming conventions are important when defining variables. Here are some key points:\n",
    "*Variable names should be descriptive.\n",
    "*They must always start with a letter or an underscore (_).\n",
    "*They can contain letters, numbers, and underscores in between.\n",
    "*Variable names are case sensitive.\n",
    "##### Valid Variable Names\n",
    "Examples of valid variable names include first_name = 'Krish' and last_name = 'Nick'. These start with a letter and contain letters or underscores."
   ]
  },
  {
   "cell_type": "code",
   "execution_count": 6,
   "id": "6eb30711",
   "metadata": {},
   "outputs": [],
   "source": [
    "first_name = 'Anjali'\n",
    "last_name = 'Pal'"
   ]
  },
  {
   "cell_type": "markdown",
   "id": "6c3f418c",
   "metadata": {},
   "source": [
    "Invalid Variable Names\n",
    "Examples of invalid variable names:\n",
    "* Starting with a number, such as 1age = 30.\n",
    "* Using a dash, such as first-name = 'Krish'.\n",
    "* Using special characters, such as @name = 'Krish'.\n",
    "These will result in syntax errors."
   ]
  },
  {
   "cell_type": "code",
   "execution_count": 7,
   "id": "d06e4a92",
   "metadata": {},
   "outputs": [],
   "source": [
    "# 1age = 30  # Invalid\n",
    "# first-name = 'Krish'  # Invalid\n",
    "# @name = 'Krish'  # Invalid"
   ]
  },
  {
   "cell_type": "markdown",
   "id": "2b392a1e",
   "metadata": {},
   "source": [
    "##### Case Sensitivity\n",
    "Variable names are case sensitive. For example, name = 'Krish' and Name = 'Nick' are two different variables."
   ]
  },
  {
   "cell_type": "code",
   "execution_count": 8,
   "id": "c45979e6",
   "metadata": {},
   "outputs": [
    {
     "name": "stdout",
     "output_type": "stream",
     "text": [
      "False\n"
     ]
    }
   ],
   "source": [
    "name = 'Anjali'\n",
    "Name = 'Pla'\n",
    "print(name == Name) "
   ]
  },
  {
   "cell_type": "markdown",
   "id": "f562e2aa",
   "metadata": {},
   "source": [
    "#### Understanding Variable Types\n",
    "Python is dynamically typed. This means the type of a variable is determined at runtime. Important data types include int, float, str, and bool."
   ]
  },
  {
   "cell_type": "code",
   "execution_count": 10,
   "id": "ba244799",
   "metadata": {},
   "outputs": [],
   "source": [
    "age = 19          # int \n",
    "height = 4.1      # float\n",
    "name = 'Anjali'   # str\n",
    "is_student = True # boolean"
   ]
  },
  {
   "cell_type": "markdown",
   "id": "5ba46387",
   "metadata": {},
   "source": [
    "#### Type Checking\n",
    "You can check the type of a variable using the type() function."
   ]
  },
  {
   "cell_type": "code",
   "execution_count": 12,
   "id": "deb4ac3c",
   "metadata": {},
   "outputs": [
    {
     "name": "stdout",
     "output_type": "stream",
     "text": [
      "<class 'int'>\n",
      "<class 'float'>\n",
      "<class 'str'>\n"
     ]
    }
   ],
   "source": [
    "print(type(age))\n",
    "print(type(height))\n",
    "print(type(name))"
   ]
  },
  {
   "cell_type": "markdown",
   "id": "a7461a64",
   "metadata": {},
   "source": [
    "##### Type Checking and Conversion\n",
    "Type checking is done using the type() function. Type conversion allows you to convert one data type to another using functions like str(), int(), and float()."
   ]
  },
  {
   "cell_type": "code",
   "execution_count": 15,
   "id": "2c4128a4",
   "metadata": {},
   "outputs": [
    {
     "name": "stdout",
     "output_type": "stream",
     "text": [
      "<class 'int'>\n",
      "19\n",
      "<class 'str'>\n"
     ]
    }
   ],
   "source": [
    "age = 19\n",
    "print(type(age))\n",
    "age_str = str(age)\n",
    "print(age_str)\n",
    "print(type(age_str))   "
   ]
  },
  {
   "cell_type": "markdown",
   "id": "9118a5bd",
   "metadata": {},
   "source": [
    "#### Converting Between Types\n",
    "You can convert a string that represents a number to an integer using int(). However, converting a non-numeric string to an integer will result in an error."
   ]
  },
  {
   "cell_type": "code",
   "execution_count": 16,
   "id": "50695db7",
   "metadata": {},
   "outputs": [
    {
     "name": "stdout",
     "output_type": "stream",
     "text": [
      "<class 'int'>\n"
     ]
    }
   ],
   "source": [
    "age = '19'\n",
    "print(type(int(age)))\n",
    "\n",
    "name = 'Anjali'\n",
    "# int(name)"
   ]
  },
  {
   "cell_type": "markdown",
   "id": "d6f0005b",
   "metadata": {},
   "source": [
    "#### Float and Integer Conversion\n",
    "A float can be converted to an integer, which removes the decimal part. You can also convert an integer to a float."
   ]
  },
  {
   "cell_type": "code",
   "execution_count": 17,
   "id": "6d0a8096",
   "metadata": {},
   "outputs": [
    {
     "name": "stdout",
     "output_type": "stream",
     "text": [
      "5\n",
      "5.0\n"
     ]
    }
   ],
   "source": [
    "height = 5.11\n",
    "print(int(height))\n",
    "print(float(int(height)))"
   ]
  },
  {
   "cell_type": "markdown",
   "id": "f3253336",
   "metadata": {},
   "source": [
    "#### Dynamic Typing in Python\n",
    "Python allows the type of a variable to change as the program executes. For example, a variable can be assigned an integer, then a string, then a float."
   ]
  },
  {
   "cell_type": "code",
   "execution_count": 18,
   "id": "c7a85c72",
   "metadata": {},
   "outputs": [
    {
     "name": "stdout",
     "output_type": "stream",
     "text": [
      "<class 'int'>\n",
      "Hello <class 'str'>\n",
      "3.14 <class 'float'>\n"
     ]
    }
   ],
   "source": [
    "var = 10\n",
    "print(type(var))\n",
    "var = 'Hello'\n",
    "print(var, type(var))\n",
    "var = 3.14\n",
    "print(var, type(var))"
   ]
  },
  {
   "cell_type": "markdown",
   "id": "3c54478b",
   "metadata": {},
   "source": [
    "#### The Input Function\n",
    "The input() function allows the user to provide input. By default, the input is received as a string. You can convert it to another type as needed."
   ]
  },
  {
   "cell_type": "code",
   "execution_count": null,
   "id": "7b82e25b",
   "metadata": {},
   "outputs": [],
   "source": [
    "age = input('What is your age?')\n",
    "print(age)\n",
    "print(type(age))\n",
    "\n",
    "# to convert to int\n",
    "typed_age = int(input('What is your age?'))\n",
    "print(type(typed_age))"
   ]
  },
  {
   "cell_type": "markdown",
   "id": "5fc6617e",
   "metadata": {},
   "source": [
    "#### Simple Calculator Example\n",
    "Let us create a simple calculator using the concepts discussed. The calculator will take two numbers as input and display their sum, difference, product, and quotient."
   ]
  },
  {
   "cell_type": "code",
   "execution_count": null,
   "id": "fe6ed402",
   "metadata": {},
   "outputs": [],
   "source": [
    "num1 = int(input('Enter first number: '))\n",
    "num2 = int(input('Enter second number: '))\n",
    "sum = num1 + num2\n",
    "difference = num1 - num2\n",
    "product = num1 * num2\n",
    "quotient = num1 / num2\n",
    "print('sum : ', sum)\n",
    "print('Differnece:', difference)\n",
    "print('Product:', product)\n",
    "print('Quotient:', quotient) "
   ]
  },
  {
   "cell_type": "markdown",
   "id": "0ace6089",
   "metadata": {},
   "source": [
    "#### Conclusion\n",
    "I have covered variables in Python, including declaration, assignment, naming conventions, types, type checking, type conversion, dynamic typing, and user input. In the next video, we will discuss more about data types and operators.\n",
    "\n",
    "#### Key Takeaways\n",
    "Variables in Python are created by assignment and do not require explicit declaration.\n",
    "Variable names must start with a letter or underscore, are case sensitive, and can contain letters, numbers, and underscores.\n",
    "Python is dynamically typed, allowing variable types to change at runtime.\n",
    "Type checking and conversion can be performed using built-in functions like type(), str(), int(), and float().\n",
    "The input() function always returns a string, which can be typecast as needed."
   ]
  }
 ],
 "metadata": {
  "kernelspec": {
   "display_name": "Python 3",
   "language": "python",
   "name": "python3"
  },
  "language_info": {
   "codemirror_mode": {
    "name": "ipython",
    "version": 3
   },
   "file_extension": ".py",
   "mimetype": "text/x-python",
   "name": "python",
   "nbconvert_exporter": "python",
   "pygments_lexer": "ipython3",
   "version": "3.12.0"
  }
 },
 "nbformat": 4,
 "nbformat_minor": 5
}
