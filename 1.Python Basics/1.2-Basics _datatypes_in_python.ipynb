{
 "cells": [
  {
   "cell_type": "markdown",
   "id": "b8a0340c",
   "metadata": {},
   "source": [
    "### Basics Data Types In Python\n",
    "##### Introduction to Data Types\n",
    "In this  Python programming, focusing on data types. Previously, we covered variables, and now we will explore data types in detail. The outline includes understanding the importance of data types in programming, exploring basic data types such as integers, floating point numbers, strings, and booleans, and later advancing to complex types like lists, tuples, sets, and dictionaries. We will also cover operations and type conversions with practical examples.\n",
    "\n",
    "#### What Are Data Types?\n",
    "Data types are classifications of data that tell the compiler or interpreter how the programmer intends to use the data. They determine the operations that can be performed on the data, the values the data can take, and the amount of memory needed to store it. Different data types, such as integers and floating point numbers, require different amounts of memory. For example, an integer might use 8 bits, while a floating point number might use 16 bits.\n",
    "\n",
    "##### Importance of Data Types in Programming\n",
    "Data types ensure that data is stored efficiently and help perform correct operations on data. Proper use of data types can prevent errors and bugs in programs. Additionally, memory management is a key aspect influenced by data types.\n",
    "\n",
    "##### Basic Data Types in Python\n",
    "Let's explore some basic data types with examples in Python.\n",
    "\n",
    "##### Integer Example\n",
    "We create an integer variable named age and assign it the value 35. Using the type() function, we can confirm that age is of type int."
   ]
  },
  {
   "cell_type": "code",
   "execution_count": 1,
   "id": "674f831b",
   "metadata": {},
   "outputs": [
    {
     "name": "stdout",
     "output_type": "stream",
     "text": [
      "<class 'int'>\n"
     ]
    }
   ],
   "source": [
    "age = 35\n",
    "print(type(age))"
   ]
  },
  {
   "cell_type": "markdown",
   "id": "09c0a797",
   "metadata": {},
   "source": [
    "##### Floating Point Number Example\n",
    "Next, we define a floating point variable height with the value 5.11. Printing the value and its type shows it is a float."
   ]
  },
  {
   "cell_type": "code",
   "execution_count": 3,
   "id": "7d40f123",
   "metadata": {},
   "outputs": [
    {
     "name": "stdout",
     "output_type": "stream",
     "text": [
      "5.11\n",
      "<class 'float'>\n"
     ]
    }
   ],
   "source": [
    "height = 5.11\n",
    "print(height)\n",
    "print(type(height))"
   ]
  },
  {
   "cell_type": "markdown",
   "id": "92f78a92",
   "metadata": {},
   "source": [
    "##### String Example\n",
    "We define a string variable name with the value \"Krish\". Printing the variable and its type confirms it is a str."
   ]
  },
  {
   "cell_type": "code",
   "execution_count": 4,
   "id": "8036d80c",
   "metadata": {},
   "outputs": [
    {
     "name": "stdout",
     "output_type": "stream",
     "text": [
      "Anjali\n",
      "<class 'str'>\n"
     ]
    }
   ],
   "source": [
    "name = \"Anjali\"\n",
    "print(name)\n",
    "print(type(name))"
   ]
  },
  {
   "cell_type": "markdown",
   "id": "8c7c6b89",
   "metadata": {},
   "source": [
    "##### Boolean Example\n",
    "Boolean data types represent truth values: True or False. We can define a boolean variable directly or by evaluating expressions."
   ]
  },
  {
   "cell_type": "code",
   "execution_count": 5,
   "id": "01b40fd1",
   "metadata": {},
   "outputs": [
    {
     "name": "stdout",
     "output_type": "stream",
     "text": [
      "True\n",
      "<class 'bool'>\n"
     ]
    }
   ],
   "source": [
    "is_True = True\n",
    "print(is_True)\n",
    "print(type(is_True))"
   ]
  },
  {
   "cell_type": "code",
   "execution_count": 6,
   "id": "c7f2a3c4",
   "metadata": {},
   "outputs": [
    {
     "name": "stdout",
     "output_type": "stream",
     "text": [
      "True\n",
      "<class 'bool'>\n"
     ]
    }
   ],
   "source": [
    "a = 10\n",
    "b = 10\n",
    "result = (a == b)\n",
    "print(result)\n",
    "print(type(result))"
   ]
  },
  {
   "cell_type": "markdown",
   "id": "bd64262b",
   "metadata": {},
   "source": [
    "##### Common Errors with Data Types\n",
    "When working with different data types, errors can occur. For example, trying to concatenate a string with an integer without conversion results in a type error."
   ]
  },
  {
   "cell_type": "code",
   "execution_count": 7,
   "id": "5fffdd7c",
   "metadata": {},
   "outputs": [
    {
     "ename": "TypeError",
     "evalue": "can only concatenate str (not \"int\") to str",
     "output_type": "error",
     "traceback": [
      "\u001b[31m---------------------------------------------------------------------------\u001b[39m",
      "\u001b[31mTypeError\u001b[39m                                 Traceback (most recent call last)",
      "\u001b[36mCell\u001b[39m\u001b[36m \u001b[39m\u001b[32mIn[7]\u001b[39m\u001b[32m, line 1\u001b[39m\n\u001b[32m----> \u001b[39m\u001b[32m1\u001b[39m result = \u001b[33;43m\"\u001b[39;49m\u001b[33;43mhello\u001b[39;49m\u001b[33;43m\"\u001b[39;49m\u001b[43m \u001b[49m\u001b[43m+\u001b[49m\u001b[43m \u001b[49m\u001b[32;43m5\u001b[39;49m \u001b[38;5;66;03m# this will cause an error\u001b[39;00m\n",
      "\u001b[31mTypeError\u001b[39m: can only concatenate str (not \"int\") to str"
     ]
    }
   ],
   "source": [
    "result = \"hello\" + 5 # this will cause an error"
   ]
  },
  {
   "cell_type": "markdown",
   "id": "01cd1107",
   "metadata": {},
   "source": [
    "##### Fixing Type Errors with Typecasting\n",
    "To fix the above error, convert the integer to a string using str() before concatenation."
   ]
  },
  {
   "cell_type": "code",
   "execution_count": 8,
   "id": "66d1beb7",
   "metadata": {},
   "outputs": [
    {
     "name": "stdout",
     "output_type": "stream",
     "text": [
      "hello5\n"
     ]
    }
   ],
   "source": [
    "result = \"hello\" + str(5) # converting integer to a string\n",
    "print(result)"
   ]
  },
  {
   "cell_type": "markdown",
   "id": "aa5866df",
   "metadata": {},
   "source": [
    "#### String Methods\n",
    "Strings in Python have many built-in methods such as isalnum(), casefold(), center(), clear(), copy(), and count(). These methods provide various functionalities for string manipulation. We will explore these methods in more detail in advanced tutorials.\n",
    "\n",
    "##### Conclusion\n",
    "We have covered the basics of data types in Python, including integers, floats, strings, and booleans. Understanding these fundamentals is essential before moving on to more complex data types and operations. Patience and practice are key to mastering these concepts.\n",
    "\n",
    "##### Key Takeaways\n",
    "Data types classify data and inform the interpreter how to use and store it efficiently.\n",
    "Basic Python data types include integers, floating point numbers, strings, and booleans.\n",
    "Proper use of data types helps prevent errors and manages memory effectively.\n",
    "Typecasting is essential to convert between data types and avoid type-related errors."
   ]
  }
 ],
 "metadata": {
  "kernelspec": {
   "display_name": "Python 3",
   "language": "python",
   "name": "python3"
  },
  "language_info": {
   "codemirror_mode": {
    "name": "ipython",
    "version": 3
   },
   "file_extension": ".py",
   "mimetype": "text/x-python",
   "name": "python",
   "nbconvert_exporter": "python",
   "pygments_lexer": "ipython3",
   "version": "3.12.0"
  }
 },
 "nbformat": 4,
 "nbformat_minor": 5
}
