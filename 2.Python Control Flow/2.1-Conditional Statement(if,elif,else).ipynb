{
 "cells": [
  {
   "cell_type": "markdown",
   "id": "bdcc4010",
   "metadata": {},
   "source": [
    "### Conditional Statements (if, elif, else) in Python\n",
    "##### Introduction to Conditional Statements\n",
    "In this lecture, we continue our discussion on Python, focusing on control flow, specifically conditional statements and loops. In this session, we will focus more on conditional statements.\n",
    "\n",
    "##### Outline of Topics\n",
    "Introduction to conditional statements\n",
    "Understanding the if statement and its syntax in Python\n",
    "Exploring else if (Elif) and else statements\n",
    "Nested conditional statements\n",
    "Practical real-world examples\n",
    "Common errors and best practices for using conditional statements\n",
    "##### The if Statement\n",
    "The if statement evaluates a condition and executes the block of code within it if the condition is true. For example, consider the following:\n",
    "\n"
   ]
  },
  {
   "cell_type": "code",
   "execution_count": 2,
   "id": "98ffd991",
   "metadata": {},
   "outputs": [
    {
     "name": "stdout",
     "output_type": "stream",
     "text": [
      "You are eligible to vote.\n"
     ]
    }
   ],
   "source": [
    "age = float(input(\"enter your age\"))\n",
    "if age >= 18:\n",
    "    print(\"You are eligible to vote.\")\n",
    "else:\n",
    "    print(\"You are not eligible to vote.\")"
   ]
  },
  {
   "cell_type": "markdown",
   "id": "4e5a8590",
   "metadata": {},
   "source": [
    "When the if statement is executed, the condition age >= 18 is evaluated. Since age is 20, which is greater than or equal to 18, the condition is true, and the block inside the if statement is executed, printing the message.\n",
    "\n",
    "The else Statement\n",
    "The else statement executes a block of code if the condition in the if statement is false. For example:"
   ]
  },
  {
   "cell_type": "code",
   "execution_count": 3,
   "id": "fe2c9e16",
   "metadata": {},
   "outputs": [
    {
     "name": "stdout",
     "output_type": "stream",
     "text": [
      "You are not eligible to vote.\n"
     ]
    }
   ],
   "source": [
    "age = float(input(\"enter your age\"))\n",
    "if age >= 18:\n",
    "    print(\"You are eligible to vote.\")\n",
    "else:\n",
    "    print(\"You are not eligible to vote.\")"
   ]
  },
  {
   "cell_type": "markdown",
   "id": "b8eedad7",
   "metadata": {},
   "source": [
    "The elif Statement\n",
    "The elif statement, short for 'else if', allows you to check multiple conditions. It is used when you have more than two possible outcomes. For example:"
   ]
  },
  {
   "cell_type": "code",
   "execution_count": 6,
   "id": "e44f75a7",
   "metadata": {},
   "outputs": [
    {
     "name": "stdout",
     "output_type": "stream",
     "text": [
      "you are a teenager.\n"
     ]
    }
   ],
   "source": [
    "age = float(input(\"Enter ypur age:\"))\n",
    "if age < 13:\n",
    "    print(\"You are a child.\")\n",
    "elif  age < 20:\n",
    "    print(\"you are a teenager.\")\n",
    "else:\n",
    "    print(\"You are an adult.\")"
   ]
  },
  {
   "cell_type": "markdown",
   "id": "06115e10",
   "metadata": {},
   "source": [
    "Here, the code checks if age is less than 13. If not, it checks if age is less than 18. If neither condition is true, it executes the else block. For age = 20, the output will be \"You are an adult.\"\n",
    "\n",
    "##### Nested Conditional Statements\n",
    "Nested conditional statements allow you to place one or more if, elif, or else statements inside another conditional block. This enables more complex decision-making. For example, to determine if a number is positive, even, or odd:"
   ]
  },
  {
   "cell_type": "code",
   "execution_count": null,
   "id": "c1b771bc",
   "metadata": {},
   "outputs": [],
   "source": []
  },
  {
   "cell_type": "code",
   "execution_count": null,
   "id": "9b39f04e",
   "metadata": {},
   "outputs": [],
   "source": []
  }
 ],
 "metadata": {
  "kernelspec": {
   "display_name": "Python 3",
   "language": "python",
   "name": "python3"
  },
  "language_info": {
   "codemirror_mode": {
    "name": "ipython",
    "version": 3
   },
   "file_extension": ".py",
   "mimetype": "text/x-python",
   "name": "python",
   "nbconvert_exporter": "python",
   "pygments_lexer": "ipython3",
   "version": "3.12.0"
  }
 },
 "nbformat": 4,
 "nbformat_minor": 5
}
