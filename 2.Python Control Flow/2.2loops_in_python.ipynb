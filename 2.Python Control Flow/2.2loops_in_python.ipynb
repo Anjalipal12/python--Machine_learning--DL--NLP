{
 "cells": [
  {
   "cell_type": "markdown",
   "id": "c7e70f87",
   "metadata": {},
   "source": [
    "#### Loops in Python\n",
    "##### Introduction to Loops in Python\n",
    "we continue our discussion on Python by focusing on loops. We will explore the different types of loops used in Python programming, including for loops, while loops, and loop control statements such as break, continue, and pass. We will also discuss nested loops and provide practical examples to illustrate these concepts.\n",
    "\n",
    "##### For Loops and the Range Function\n",
    "A for loop is used to iterate over a sequence of numbers. The range function helps generate a sequence of numbers. For example, using range(5) generates numbers from 0 to 4. The last number is not included. You can also specify a start and stop value, such as range(1, 6), which generates numbers from 1 to 5. The range function can take a third parameter, the step size, which determines the increment between numbers."
   ]
  },
  {
   "cell_type": "code",
   "execution_count": 2,
   "id": "61d8cf6e",
   "metadata": {},
   "outputs": [
    {
     "name": "stdout",
     "output_type": "stream",
     "text": [
      "0\n",
      "1\n",
      "2\n",
      "3\n",
      "4\n"
     ]
    }
   ],
   "source": [
    "for i in range(5):\n",
    "    print(i)"
   ]
  },
  {
   "cell_type": "code",
   "execution_count": 6,
   "id": "5d6dfb2c",
   "metadata": {},
   "outputs": [
    {
     "name": "stdout",
     "output_type": "stream",
     "text": [
      "1\n",
      "2\n",
      "3\n",
      "4\n",
      "5\n"
     ]
    }
   ],
   "source": [
    "for i in range(1, 6):\n",
    "    print(i)"
   ]
  },
  {
   "cell_type": "code",
   "execution_count": 7,
   "id": "97ed5e32",
   "metadata": {},
   "outputs": [
    {
     "name": "stdout",
     "output_type": "stream",
     "text": [
      "1\n",
      "6\n"
     ]
    }
   ],
   "source": [
    "for i in range(1, 10 , 5): # range(start, stop, step) ka matlab:\n",
    "                        # start = 1 → counting 1 se start hogi.\n",
    "                        # stop = 10 → counting 10 tak chalegi (lekin 10 include nahi hoga).\n",
    "                        # step = 5 → har step me 5 number jump karega.\n",
    "    print(i)  # 1 se shuru karo\n",
    "              #har baar 5 add karte jao\n",
    "             # jab tak 10 se chhota hai, tab tak print karo."
   ]
  },
  {
   "cell_type": "code",
   "execution_count": 8,
   "id": "39fe9ea1",
   "metadata": {},
   "outputs": [
    {
     "name": "stdout",
     "output_type": "stream",
     "text": [
      "10\n",
      "9\n",
      "8\n",
      "7\n",
      "6\n",
      "5\n",
      "4\n",
      "3\n",
      "2\n",
      "1\n"
     ]
    }
   ],
   "source": [
    "for i in range(10,0,-1):\n",
    "    print(i)"
   ]
  },
  {
   "cell_type": "markdown",
   "id": "0d1ee1cc",
   "metadata": {},
   "source": [
    "##### Iterating Over Strings\n",
    "Strings in Python are collections of characters. You can use a for loop to traverse each character in a string."
   ]
  },
  {
   "cell_type": "markdown",
   "id": "3af156c5",
   "metadata": {},
   "source": [
    "Iterating Over Strings\n",
    "Strings in Python are collections of characters. You can use a for loop to traverse each character in a string."
   ]
  },
  {
   "cell_type": "code",
   "execution_count": 9,
   "id": "dfaf0669",
   "metadata": {},
   "outputs": [
    {
     "name": "stdout",
     "output_type": "stream",
     "text": [
      "k\n",
      "r\n",
      "i\n",
      "s\n",
      "h\n",
      " \n",
      "N\n",
      "a\n",
      "y\n",
      "a\n",
      "k\n"
     ]
    }
   ],
   "source": [
    "str = \"krish Nayak\"\n",
    "for i in str:\n",
    "    print(i)\n"
   ]
  },
  {
   "cell_type": "markdown",
   "id": "055bca0f",
   "metadata": {},
   "source": [
    "##### While Loops\n",
    "A while loop continues to execute as long as the condition is true. For example, you can use a while loop to print numbers from 0 to 4 by incrementing a counter variable."
   ]
  },
  {
   "cell_type": "code",
   "execution_count": 11,
   "id": "0c4596b5",
   "metadata": {},
   "outputs": [
    {
     "name": "stdout",
     "output_type": "stream",
     "text": [
      "0\n",
      "1\n",
      "2\n",
      "3\n",
      "4\n"
     ]
    }
   ],
   "source": [
    "count = 0\n",
    "while count < 5:\n",
    "    print(count)\n",
    "    count += 1 "
   ]
  },
  {
   "cell_type": "markdown",
   "id": "7b9c8195",
   "metadata": {},
   "source": [
    "##### Loop Control Statements: break, continue, and pass\n",
    "##### Break Statement\n",
    "The break statement exits the loop prematurely when a certain condition is met."
   ]
  },
  {
   "cell_type": "code",
   "execution_count": 12,
   "id": "22d51ad1",
   "metadata": {},
   "outputs": [
    {
     "name": "stdout",
     "output_type": "stream",
     "text": [
      "0\n",
      "1\n",
      "2\n",
      "3\n",
      "4\n"
     ]
    }
   ],
   "source": [
    "for i in range(5):\n",
    "    if i == 5:\n",
    "        break\n",
    "    print(i)\n"
   ]
  },
  {
   "cell_type": "markdown",
   "id": "743060fa",
   "metadata": {},
   "source": [
    "#### Continue Statement\n",
    "The continue statement skips the current iteration and continues with the next."
   ]
  },
  {
   "cell_type": "code",
   "execution_count": 13,
   "id": "4e6dcb99",
   "metadata": {},
   "outputs": [
    {
     "name": "stdout",
     "output_type": "stream",
     "text": [
      "1\n",
      "3\n",
      "5\n",
      "7\n",
      "9\n"
     ]
    }
   ],
   "source": [
    "for i in range(10):\n",
    "    if i % 2 == 0:\n",
    "        continue\n",
    "    print(i)\n"
   ]
  },
  {
   "cell_type": "markdown",
   "id": "ce8d12f8",
   "metadata": {},
   "source": [
    "##### Pass Statement\n",
    "The pass statement is a null operation and does nothing. It is used as a placeholder."
   ]
  },
  {
   "cell_type": "code",
   "execution_count": 14,
   "id": "6747c2aa",
   "metadata": {},
   "outputs": [
    {
     "name": "stdout",
     "output_type": "stream",
     "text": [
      "The number is 0\n",
      "The number is 1\n",
      "The number is 2\n",
      "The number is 3\n",
      "The number is 4\n"
     ]
    }
   ],
   "source": [
    "for i in range(5):\n",
    "    if i == 3:\n",
    "        pass\n",
    "    print(f\"The number is {i}\")"
   ]
  },
  {
   "cell_type": "markdown",
   "id": "62ce7d0a",
   "metadata": {},
   "source": [
    "##### Nested Loops\n",
    "A nested loop is a loop inside another loop. This is useful for iterating over multi-dimensional data."
   ]
  },
  {
   "cell_type": "code",
   "execution_count": 15,
   "id": "fb644300",
   "metadata": {},
   "outputs": [
    {
     "name": "stdout",
     "output_type": "stream",
     "text": [
      "i = 0, j = 0\n",
      "i = 0, j = 1\n",
      "i = 1, j = 0\n",
      "i = 1, j = 1\n",
      "i = 2, j = 0\n",
      "i = 2, j = 1\n"
     ]
    }
   ],
   "source": [
    "for i in range(3):\n",
    "    for j in range(2):\n",
    "        print(f\"i = {i}, j = {j}\")"
   ]
  },
  {
   "cell_type": "markdown",
   "id": "e946d31e",
   "metadata": {},
   "source": [
    "#### Practical Examples\n",
    "Sum of First n Natural Numbers Using While Loop"
   ]
  },
  {
   "cell_type": "code",
   "execution_count": 16,
   "id": "d77237c3",
   "metadata": {},
   "outputs": [
    {
     "name": "stdout",
     "output_type": "stream",
     "text": [
      "sum of first 10 natural numbers is 1\n",
      "sum of first 10 natural numbers is 3\n",
      "sum of first 10 natural numbers is 6\n",
      "sum of first 10 natural numbers is 10\n",
      "sum of first 10 natural numbers is 15\n",
      "sum of first 10 natural numbers is 21\n",
      "sum of first 10 natural numbers is 28\n",
      "sum of first 10 natural numbers is 36\n",
      "sum of first 10 natural numbers is 45\n",
      "sum of first 10 natural numbers is 55\n"
     ]
    }
   ],
   "source": [
    "n = int(input(\"Enter a number:\"))\n",
    "sum = 0\n",
    "count = 1\n",
    "while count <= n:\n",
    "    sum += count\n",
    "    count += 1\n",
    "    print(f\"sum of first {n} natural numbers is {sum}\")"
   ]
  },
  {
   "cell_type": "markdown",
   "id": "4af88c4c",
   "metadata": {},
   "source": [
    "#### Sum of First n Natural Numbers Using For Loop"
   ]
  },
  {
   "cell_type": "code",
   "execution_count": 17,
   "id": "b13e4a46",
   "metadata": {},
   "outputs": [
    {
     "name": "stdout",
     "output_type": "stream",
     "text": [
      "6\n"
     ]
    }
   ],
   "source": [
    "n = int(input(\"Enter a number:\"))\n",
    "sum = 0\n",
    "for i in range(1, n+1):\n",
    "    sum += i\n",
    "print(sum)"
   ]
  },
  {
   "cell_type": "markdown",
   "id": "fde48a84",
   "metadata": {},
   "source": [
    "#### Display Prime Numbers Between 1 and 100\n",
    "A prime number is only divisible by 1 and itself."
   ]
  },
  {
   "cell_type": "code",
   "execution_count": null,
   "id": "89783b87",
   "metadata": {},
   "outputs": [],
   "source": [
    "for num in range(1, 101):\n",
    "    if num > 1:\n",
    "        for i in range(2, num):\n",
    "            if (num % i) == 0:\n",
    "                break\n",
    "            else:\n",
    "                print(num)"
   ]
  },
  {
   "cell_type": "markdown",
   "id": "a8c472d0",
   "metadata": {},
   "source": [
    "#### Conclusion\n",
    "Loops are powerful constructs in Python that allow you to execute blocks of code multiple times. By understanding and using for and while loops, along with loop control statements like break, continue, and pass, you can handle a wide range of programming tasks efficiently. More examples and applications will be explored as you continue learning.\n",
    "\n",
    "#### Key Takeaways\n",
    "Python provides two main types of loops: for loops and while loops, each with distinct use cases.\n",
    "Loop control statements such as break, continue, and pass allow for more flexible and controlled iteration.\n",
    "Nested loops enable iteration within iteration, useful for working with multi-dimensional data.\n",
    "Practical examples, such as summing natural numbers and finding prime numbers, demonstrate the power and versatility of loops in Python."
   ]
  },
  {
   "cell_type": "markdown",
   "id": "38562509",
   "metadata": {},
   "source": []
  }
 ],
 "metadata": {
  "kernelspec": {
   "display_name": "Python 3",
   "language": "python",
   "name": "python3"
  },
  "language_info": {
   "codemirror_mode": {
    "name": "ipython",
    "version": 3
   },
   "file_extension": ".py",
   "mimetype": "text/x-python",
   "name": "python",
   "nbconvert_exporter": "python",
   "pygments_lexer": "ipython3",
   "version": "3.12.0"
  }
 },
 "nbformat": 4,
 "nbformat_minor": 5
}
